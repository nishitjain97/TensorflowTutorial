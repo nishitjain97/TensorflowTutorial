{
 "cells": [
  {
   "cell_type": "markdown",
   "metadata": {},
   "source": [
    "# Tensorflow Tutorial Files\n",
    "## The numbers each represent a new file / "
   ]
  },
  {
   "cell_type": "markdown",
   "metadata": {},
   "source": [
    "## 1"
   ]
  },
  {
   "cell_type": "code",
   "execution_count": 14,
   "metadata": {},
   "outputs": [
    {
     "name": "stdout",
     "output_type": "stream",
     "text": [
      "Tensor(\"Const_16:0\", shape=(), dtype=float32) Tensor(\"Const_17:0\", shape=(), dtype=float32)\n"
     ]
    }
   ],
   "source": [
    "\"\"\" Building a computation graph \"\"\"\n",
    "import tensorflow as tf\n",
    "\n",
    "node1 = tf.constant(3.0, tf.float32)\n",
    "node2 = tf.constant(4.0, tf.float32)\n",
    "\n",
    "print(node1, node2)"
   ]
  },
  {
   "cell_type": "code",
   "execution_count": 15,
   "metadata": {},
   "outputs": [
    {
     "name": "stdout",
     "output_type": "stream",
     "text": [
      "[3.0, 4.0]\n"
     ]
    }
   ],
   "source": [
    "\"\"\" Running a computation Graph \"\"\"\n",
    "sess = tf.Session()\n",
    "print(sess.run([node1, node2]))\n",
    "sess.close()"
   ]
  },
  {
   "cell_type": "code",
   "execution_count": 16,
   "metadata": {},
   "outputs": [
    {
     "name": "stdout",
     "output_type": "stream",
     "text": [
      "[3.0, 4.0]\n"
     ]
    }
   ],
   "source": [
    "\"\"\" Alternative method of running \"\"\"\n",
    "with tf.Session() as sess:\n",
    "    output = sess.run([node1, node2])\n",
    "    print(output)"
   ]
  },
  {
   "cell_type": "markdown",
   "metadata": {},
   "source": [
    "## 2"
   ]
  },
  {
   "cell_type": "code",
   "execution_count": 17,
   "metadata": {},
   "outputs": [
    {
     "name": "stdout",
     "output_type": "stream",
     "text": [
      "30.0\n"
     ]
    }
   ],
   "source": [
    "\"\"\" \n",
    "    Visualizing a TF graph \n",
    "    This is done using TensorBoard, a web tool.\n",
    "\"\"\"\n",
    "import tensorflow as tf\n",
    "\n",
    "a = tf.constant(5.0)\n",
    "b = tf.constant(6.0)\n",
    "\n",
    "c = a * b\n",
    "\n",
    "with tf.Session() as sess:\n",
    "    File_Writer = tf.summary.FileWriter('Graphs', sess.graph)\n",
    "    print(sess.run(c))"
   ]
  },
  {
   "cell_type": "markdown",
   "metadata": {},
   "source": [
    "## 3"
   ]
  },
  {
   "cell_type": "code",
   "execution_count": 20,
   "metadata": {},
   "outputs": [
    {
     "name": "stdout",
     "output_type": "stream",
     "text": [
      "[34 35 36 37]\n"
     ]
    }
   ],
   "source": [
    "\"\"\" Types of nodes \"\"\"\n",
    "import tensorflow as tf\n",
    "\n",
    "# Constant remains unchanged for different runs of the same code\n",
    "a = tf.constant(23, tf.int32)\n",
    "\n",
    "# Place holders are supplied with values during run of the program\n",
    "b = tf.placeholder(tf.int32)\n",
    "\n",
    "# Variables change during the run of the program\n",
    "c = tf.Variable([10], tf.int32)\n",
    "\n",
    "out = a + b + c\n",
    "init = tf.global_variables_initializer()\n",
    "\n",
    "with tf.Session() as sess:\n",
    "    sess.run(init)\n",
    "    print(sess.run(out, {b:[1, 2, 3, 4]}))"
   ]
  },
  {
   "cell_type": "markdown",
   "metadata": {},
   "source": [
    "## 4"
   ]
  },
  {
   "cell_type": "code",
   "execution_count": 22,
   "metadata": {},
   "outputs": [
    {
     "name": "stdout",
     "output_type": "stream",
     "text": [
      "23.66\n"
     ]
    }
   ],
   "source": [
    "\"\"\" Loss calculation \"\"\"\n",
    "import tensorflow as tf\n",
    "\n",
    "# Model Parameters\n",
    "W = tf.Variable([.3], tf.float32)\n",
    "b = tf.Variable([-.3], tf.float32)\n",
    "\n",
    "# Inputs and Outputs\n",
    "x = tf.placeholder(tf.float32)\n",
    "\n",
    "linear_model = W * x + b\n",
    "\n",
    "y = tf.placeholder(tf.float32)\n",
    "\n",
    "# Loss\n",
    "squared_delta = tf.square(linear_model - y)\n",
    "loss = tf.reduce_sum(squared_delta)\n",
    "\n",
    "init = tf.global_variables_initializer()\n",
    "\n",
    "sess = tf.Session()\n",
    "\n",
    "sess.run(init)\n",
    "\n",
    "print(sess.run(loss, {x:[1, 2, 3, 4], y:[0, -1, -2, -3]}))"
   ]
  },
  {
   "cell_type": "markdown",
   "metadata": {},
   "source": [
    "## 5"
   ]
  },
  {
   "cell_type": "code",
   "execution_count": 24,
   "metadata": {},
   "outputs": [
    {
     "name": "stdout",
     "output_type": "stream",
     "text": [
      "[array([-0.9999969], dtype=float32), array([0.9999908], dtype=float32)]\n"
     ]
    }
   ],
   "source": [
    "\"\"\" Gradient Descent \"\"\"\n",
    "import tensorflow as tf\n",
    "\n",
    "# Model Parameters\n",
    "W = tf.Variable([.3], tf.float32)\n",
    "b = tf.Variable([-.3], tf.float32)\n",
    "\n",
    "# Inputs and Outputs\n",
    "x = tf.placeholder(tf.float32)\n",
    "\n",
    "linear_model = W * x + b\n",
    "\n",
    "y = tf.placeholder(tf.float32)\n",
    "\n",
    "# Loss\n",
    "squared_delta = tf.square(linear_model - y)\n",
    "loss = tf.reduce_sum(squared_delta)\n",
    "\n",
    "optimizer = tf.train.GradientDescentOptimizer(0.01)\n",
    "train = optimizer.minimize(loss)\n",
    "\n",
    "init = tf.global_variables_initializer()\n",
    "\n",
    "sess = tf.Session()\n",
    "\n",
    "sess.run(init)\n",
    "\n",
    "for i in range(1000):\n",
    "    sess.run(train, {x: [1, 2, 3, 4], y:[0, -1, -2, -3]})\n",
    "\n",
    "## print(sess.run(loss, {x:[1, 2, 3, 4], y:[0, -1, -2, -3]}))\n",
    "print(sess.run([W, b]))"
   ]
  },
  {
   "cell_type": "code",
   "execution_count": null,
   "metadata": {},
   "outputs": [],
   "source": []
  }
 ],
 "metadata": {
  "kernelspec": {
   "display_name": "Python 3",
   "language": "python",
   "name": "python3"
  },
  "language_info": {
   "codemirror_mode": {
    "name": "ipython",
    "version": 3
   },
   "file_extension": ".py",
   "mimetype": "text/x-python",
   "name": "python",
   "nbconvert_exporter": "python",
   "pygments_lexer": "ipython3",
   "version": "3.6.5"
  }
 },
 "nbformat": 4,
 "nbformat_minor": 2
}
