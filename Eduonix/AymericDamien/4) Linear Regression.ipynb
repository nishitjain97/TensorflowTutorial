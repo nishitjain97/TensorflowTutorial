{
 "cells": [
  {
   "cell_type": "markdown",
   "metadata": {},
   "source": [
    "# Linear Regression using TensorFlow"
   ]
  },
  {
   "cell_type": "code",
   "execution_count": 45,
   "metadata": {},
   "outputs": [],
   "source": [
    "import tensorflow as tf\n",
    "import numpy as np\n",
    "import matplotlib.pyplot as plt\n",
    "rng = np.random"
   ]
  },
  {
   "cell_type": "code",
   "execution_count": 46,
   "metadata": {},
   "outputs": [],
   "source": [
    "learning_rate = 0.01\n",
    "training_epochs = 1000\n",
    "display_step = 50"
   ]
  },
  {
   "cell_type": "code",
   "execution_count": 47,
   "metadata": {},
   "outputs": [],
   "source": [
    "train_X = np.asarray([3.3,4.4,5.5,6.71,6.93,4.168,9.779,6.182,7.59,2.167,\n",
    "                         7.042,10.791,5.313,7.997,5.654,9.27,3.1])\n",
    "train_Y = np.asarray([1.7,2.76,2.09,3.19,1.694,1.573,3.366,2.596,2.53,1.221,\n",
    "                         2.827,3.465,1.65,2.904,2.42,2.94,1.3])\n",
    "n_samples = train_X.shape[0]"
   ]
  },
  {
   "cell_type": "code",
   "execution_count": 48,
   "metadata": {},
   "outputs": [],
   "source": [
    "X = tf.placeholder('float')\n",
    "Y = tf.placeholder('float')\n",
    "\n",
    "W = tf.Variable(rng.rand(), name='weights')\n",
    "b = tf.Variable(rng.rand(), name='biases')"
   ]
  },
  {
   "cell_type": "code",
   "execution_count": 49,
   "metadata": {},
   "outputs": [],
   "source": [
    "pred = tf.add(tf.multiply(X, W), b)"
   ]
  },
  {
   "cell_type": "code",
   "execution_count": 50,
   "metadata": {},
   "outputs": [],
   "source": [
    "cost = tf.reduce_sum(tf.pow(pred-Y, 2)) / (2 * n_samples)"
   ]
  },
  {
   "cell_type": "code",
   "execution_count": 51,
   "metadata": {},
   "outputs": [],
   "source": [
    "optimizer = tf.train.GradientDescentOptimizer(learning_rate).minimize(cost)"
   ]
  },
  {
   "cell_type": "code",
   "execution_count": 52,
   "metadata": {},
   "outputs": [],
   "source": [
    "init = tf.global_variables_initializer()"
   ]
  },
  {
   "cell_type": "code",
   "execution_count": 53,
   "metadata": {},
   "outputs": [
    {
     "name": "stdout",
     "output_type": "stream",
     "text": [
      "Epoch: 0050 Cost: 0.114677370 W: 0.3582402 b: 0.019871417\n",
      "Epoch: 0100 Cost: 0.110318810 W: 0.35177842 b: 0.06635651\n",
      "Epoch: 0150 Cost: 0.106463842 W: 0.34570092 b: 0.110076934\n",
      "Epoch: 0200 Cost: 0.103054233 W: 0.33998495 b: 0.15119731\n",
      "Epoch: 0250 Cost: 0.100038670 W: 0.334609 b: 0.18987173\n",
      "Epoch: 0300 Cost: 0.097371571 W: 0.32955268 b: 0.22624628\n",
      "Epoch: 0350 Cost: 0.095012717 W: 0.32479718 b: 0.2604572\n",
      "Epoch: 0400 Cost: 0.092926450 W: 0.32032445 b: 0.29263383\n",
      "Epoch: 0450 Cost: 0.091081366 W: 0.31611776 b: 0.32289657\n",
      "Epoch: 0500 Cost: 0.089449584 W: 0.3121613 b: 0.35135922\n",
      "Epoch: 0550 Cost: 0.088006459 W: 0.30844 b: 0.37812948\n",
      "Epoch: 0600 Cost: 0.086730212 W: 0.30494007 b: 0.4033075\n",
      "Epoch: 0650 Cost: 0.085601546 W: 0.30164856 b: 0.42698723\n",
      "Epoch: 0700 Cost: 0.084603429 W: 0.29855254 b: 0.44925916\n",
      "Epoch: 0750 Cost: 0.083720721 W: 0.2956408 b: 0.47020683\n",
      "Epoch: 0800 Cost: 0.082940161 W: 0.29290202 b: 0.48990873\n",
      "Epoch: 0850 Cost: 0.082249947 W: 0.29032636 b: 0.50843775\n",
      "Epoch: 0900 Cost: 0.081639551 W: 0.28790385 b: 0.5258657\n",
      "Epoch: 0950 Cost: 0.081099823 W: 0.28562528 b: 0.54225737\n",
      "Epoch: 1000 Cost: 0.080622584 W: 0.2834822 b: 0.5576741\n",
      "Optimization finished!\n",
      "Cost: 0.08062258 W: 0.2834822 b: 0.5576741\n"
     ]
    },
    {
     "data": {
      "image/png": "[encoded data removed]",
      "text/plain": [
       "<Figure size 432x288 with 1 Axes>"
      ]
     },
     "metadata": {},
     "output_type": "display_data"
    }
   ],
   "source": [
    "with tf.Session() as sess:\n",
    "    sess.run(init)\n",
    "    \n",
    "    for epoch in range(training_epochs):\n",
    "        for (x, y) in zip(train_X, train_Y):\n",
    "            sess.run(optimizer, feed_dict={X: x, Y: y})\n",
    "        \n",
    "        if (epoch+1) % display_step == 0:\n",
    "            c = sess.run(cost, feed_dict={X: train_X, Y: train_Y})\n",
    "            print(\"Epoch: %04d\" % (epoch+1), \"Cost: {:0.9f}\".format(c), \"W:\", sess.run(W), \"b:\", sess.run(b))\n",
    "    \n",
    "    print('Optimization finished!')\n",
    "    training_cost = sess.run(cost, feed_dict={X: train_X, Y: train_Y})\n",
    "    print('Cost:', training_cost, \"W:\", sess.run(W), \"b:\", sess.run(b))\n",
    "    \n",
    "    plt.plot(train_X, train_Y, 'ro', label=\"Original Data\")\n",
    "    plt.plot(train_X, sess.run(W) * train_X + sess.run(b), label=\"Fitted Line\")\n",
    "    plt.legend()\n",
    "    plt.show()"
   ]
  },
  {
   "cell_type": "code",
   "execution_count": null,
   "metadata": {},
   "outputs": [],
   "source": []
  }
 ],
 "metadata": {
  "kernelspec": {
   "display_name": "Python 3",
   "language": "python",
   "name": "python3"
  },
  "language_info": {
   "codemirror_mode": {
    "name": "ipython",
    "version": 3
   },
   "file_extension": ".py",
   "mimetype": "text/x-python",
   "name": "python",
   "nbconvert_exporter": "python",
   "pygments_lexer": "ipython3",
   "version": "3.6.5"
  }
 },
 "nbformat": 4,
 "nbformat_minor": 2
}
