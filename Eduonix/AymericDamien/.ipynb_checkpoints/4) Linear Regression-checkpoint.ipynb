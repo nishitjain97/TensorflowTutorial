{
 "cells": [
  {
   "cell_type": "markdown",
   "metadata": {},
   "source": [
    "# Linear Regression using TensorFlow"
   ]
  },
  {
   "cell_type": "code",
   "execution_count": 33,
   "metadata": {},
   "outputs": [],
   "source": [
    "import tensorflow as tf\n",
    "import numpy as np\n",
    "import matplotlib.pyplot as plt\n",
    "rng = np.random"
   ]
  },
  {
   "cell_type": "code",
   "execution_count": 34,
   "metadata": {},
   "outputs": [],
   "source": [
    "learning_rate = 0.01\n",
    "training_epochs = 1000\n",
    "display_step = 50"
   ]
  },
  {
   "cell_type": "code",
   "execution_count": 35,
   "metadata": {},
   "outputs": [],
   "source": [
    "train_X = np.asarray([3.3,4.4,5.5,6.71,6.93,4.168,9.779,6.182,7.59,2.167,\n",
    "                         7.042,10.791,5.313,7.997,5.654,9.27,3.1])\n",
    "train_Y = np.asarray([1.7,2.76,2.09,3.19,1.694,1.573,3.366,2.596,2.53,1.221,\n",
    "                         2.827,3.465,1.65,2.904,2.42,2.94,1.3])\n",
    "n_samples = train_X.shape[0]"
   ]
  },
  {
   "cell_type": "code",
   "execution_count": 36,
   "metadata": {},
   "outputs": [],
   "source": [
    "X = tf.placeholder('float')\n",
    "Y = tf.placeholder('float')\n",
    "\n",
    "W = tf.Variable(rng.rand(), name='weights')\n",
    "b = tf.Variable(rng.rand(), name='biases')"
   ]
  },
  {
   "cell_type": "code",
   "execution_count": 37,
   "metadata": {},
   "outputs": [],
   "source": [
    "pred = tf.add(tf.multiply(X, W), b)"
   ]
  },
  {
   "cell_type": "code",
   "execution_count": 38,
   "metadata": {},
   "outputs": [],
   "source": [
    "cost = tf.reduce_sum(tf.pow(pred-Y, 2)) / (2 * n_samples)"
   ]
  },
  {
   "cell_type": "code",
   "execution_count": 39,
   "metadata": {},
   "outputs": [],
   "source": [
    "optimizer = tf.train.GradientDescentOptimizer(learning_rate).minimize(cost)"
   ]
  },
  {
   "cell_type": "code",
   "execution_count": 40,
   "metadata": {},
   "outputs": [],
   "source": [
    "init = tf.global_variables_initializer()"
   ]
  },
  {
   "cell_type": "code",
   "execution_count": 43,
   "metadata": {},
   "outputs": [
    {
     "name": "stdout",
     "output_type": "stream",
     "text": [
      "Epoch: 0050 Cost: 0.076991245 W: 0.25027132 b: 0.7965907\n",
      "Epoch: 0100 Cost: 0.076991118 W: 0.25023144 b: 0.79687786\n",
      "Epoch: 0150 Cost: 0.076991029 W: 0.25019372 b: 0.7971492\n",
      "Epoch: 0200 Cost: 0.076990955 W: 0.2501582 b: 0.79740506\n",
      "Epoch: 0250 Cost: 0.076990880 W: 0.25012454 b: 0.7976462\n",
      "Epoch: 0300 Cost: 0.076990813 W: 0.25009292 b: 0.7978745\n",
      "Epoch: 0350 Cost: 0.076990791 W: 0.250063 b: 0.79808944\n",
      "Epoch: 0400 Cost: 0.076990716 W: 0.25003505 b: 0.7982907\n",
      "Epoch: 0450 Cost: 0.076990701 W: 0.25000915 b: 0.79847646\n",
      "Epoch: 0500 Cost: 0.076990679 W: 0.24998482 b: 0.7986521\n",
      "Epoch: 0550 Cost: 0.076990664 W: 0.24996197 b: 0.7988166\n",
      "Epoch: 0600 Cost: 0.076990627 W: 0.24994047 b: 0.798971\n",
      "Epoch: 0650 Cost: 0.076990627 W: 0.24992009 b: 0.7991176\n",
      "Epoch: 0700 Cost: 0.076990619 W: 0.24990098 b: 0.79925525\n",
      "Epoch: 0750 Cost: 0.076990612 W: 0.24988303 b: 0.7993842\n",
      "Epoch: 0800 Cost: 0.076990604 W: 0.24986605 b: 0.7995059\n",
      "Epoch: 0850 Cost: 0.076990589 W: 0.24985023 b: 0.7996206\n",
      "Epoch: 0900 Cost: 0.076990589 W: 0.24983531 b: 0.7997273\n",
      "Epoch: 0950 Cost: 0.076990582 W: 0.24982141 b: 0.7998277\n",
      "Epoch: 1000 Cost: 0.076990597 W: 0.24980801 b: 0.7999243\n",
      "Optimization finished!\n",
      "Cost: 0.0769906 W: 0.24980801 b: 0.7999243\n"
     ]
    }
   ],
   "source": [
    "with tf.Session() as sess:\n",
    "    sess.run(init)\n",
    "    \n",
    "    for epoch in range(training_epochs):\n",
    "        for (x, y) in zip(train_X, train_Y):\n",
    "            sess.run(optimizer, feed_dict={X: x, Y: y})\n",
    "        \n",
    "        if (epoch+1) % display_step == 0:\n",
    "            c = sess.run(cost, feed_dict={X: train_X, Y: train_Y})\n",
    "            print(\"Epoch: %04d\" % (epoch+1), \"Cost: {:0.9f}\".format(c), \"W:\", sess.run(W), \"b:\", sess.run(b))\n",
    "    \n",
    "    print('Optimization finished!')\n",
    "    training_cost = sess.run(cost, feed_dict={X: train_X, Y: train_Y})\n",
    "    print('Cost:', training_cost, \"W:\", sess.run(W), \"b:\", sess.run(b))\n",
    "    \n",
    "    plt.plot(train_X, train_Y, 'ro', label=\"Original Data\")\n",
    "    plt.plot(train_X, sess.run(W) * train_X + sess.run(b), label=\"Fitted Line\")"
   ]
  },
  {
   "cell_type": "code",
   "execution_count": null,
   "metadata": {},
   "outputs": [],
   "source": []
  }
 ],
 "metadata": {
  "kernelspec": {
   "display_name": "Python 3",
   "language": "python",
   "name": "python3"
  },
  "language_info": {
   "codemirror_mode": {
    "name": "ipython",
    "version": 3
   },
   "file_extension": ".py",
   "mimetype": "text/x-python",
   "name": "python",
   "nbconvert_exporter": "python",
   "pygments_lexer": "ipython3",
   "version": "3.6.5"
  }
 },
 "nbformat": 4,
 "nbformat_minor": 2
}
