{
 "cells": [
  {
   "cell_type": "code",
   "execution_count": 1,
   "metadata": {},
   "outputs": [],
   "source": [
    "import numpy as np"
   ]
  },
  {
   "cell_type": "code",
   "execution_count": 2,
   "metadata": {},
   "outputs": [],
   "source": [
    "class Graph():\n",
    "    def __init__(self):\n",
    "        self.operations = []\n",
    "        self.variables = []\n",
    "        self.placeholders = []\n",
    "        self.constants = []\n",
    "        \n",
    "    def as_default(self):\n",
    "        global _default_graph\n",
    "        _default_graph = self"
   ]
  },
  {
   "cell_type": "code",
   "execution_count": 3,
   "metadata": {},
   "outputs": [],
   "source": [
    "class Operation():\n",
    "    def __init__(self, input_nodes = None):\n",
    "        self.input_nodes = input_nodes\n",
    "        self.output = None\n",
    "        \n",
    "        # Append operation to the list of operations of the default graph\n",
    "        _default_graph.operations.append(self)\n",
    "        \n",
    "    def forward(self):\n",
    "        pass\n",
    "    \n",
    "    def backward(self):\n",
    "        pass\n",
    "    \n",
    "class BinaryOperation(Operation):\n",
    "    def __init__(self, a, b):\n",
    "        super().__init__([a, b])\n",
    "        \n",
    "class add(BinaryOperation):\n",
    "    \"\"\"\n",
    "    Computes a + b, element_wise\n",
    "    \"\"\"\n",
    "    def forward(self, a, b):\n",
    "        return a + b\n",
    "    \n",
    "    def backward(self, upstream_grad):\n",
    "        raise NotImplementedError\n",
    "        \n",
    "class multiply(BinaryOperation):\n",
    "    \"\"\"\n",
    "    Computes a * b, element_wise\n",
    "    \"\"\"\n",
    "    def forward(self, a, b):\n",
    "        return a * b\n",
    "    \n",
    "    def backward(self, upstream_grad):\n",
    "        raise NotImplementedError\n",
    "        \n",
    "class divide(BinaryOperation):\n",
    "    \"\"\"\n",
    "    Returns the true division of inputs, element-wise\n",
    "    \"\"\"\n",
    "    def forward(self, a, b):\n",
    "        return np.true_divide(a, b)\n",
    "    \n",
    "    def backward(self, upstream_grad):\n",
    "        raise NotImplementedError\n",
    "        \n",
    "class matmul(BinaryOperation):\n",
    "    \"\"\"\n",
    "    Multiplies matrix a by matrix b, producing a * b\n",
    "    \"\"\"\n",
    "    def forward(self, a, b):\n",
    "        return a.dot(b)\n",
    "    \n",
    "    def backward(self, upstream_grad):\n",
    "        raise NotImplementedError"
   ]
  },
  {
   "cell_type": "code",
   "execution_count": 4,
   "metadata": {},
   "outputs": [],
   "source": [
    "class Placeholder():\n",
    "    def __init__(self):\n",
    "        self.value = None\n",
    "        _default_graph.placeholders.append(self)"
   ]
  },
  {
   "cell_type": "code",
   "execution_count": 5,
   "metadata": {},
   "outputs": [],
   "source": [
    "class Constant():\n",
    "    def __init__(self, value = None):\n",
    "        self.__value = value\n",
    "        _default_graph.constants.append(self)\n",
    "        \n",
    "    @property\n",
    "    def value(self):\n",
    "        return self.__value\n",
    "    \n",
    "    @value.setter\n",
    "    def value(self, value):\n",
    "        raise ValueError(\"Cannot reassign value.\")"
   ]
  },
  {
   "cell_type": "code",
   "execution_count": 6,
   "metadata": {},
   "outputs": [],
   "source": [
    "class Variable():\n",
    "    def __init__(self, initial_value = None):\n",
    "        self.value = initial_value\n",
    "        _default_graph.variables.append(self)"
   ]
  },
  {
   "cell_type": "code",
   "execution_count": 7,
   "metadata": {},
   "outputs": [],
   "source": [
    "def topology_sort(operation):\n",
    "    ordering = []\n",
    "    visited_nodes = set()\n",
    "    \n",
    "    def recursive_helper(node):\n",
    "        if isinstance(node, Operation):\n",
    "            for input_node in node.input_nodes:\n",
    "                if input_node not in visited_nodes:\n",
    "                    recursive_helper(input_node)\n",
    "                    \n",
    "        visited_nodes.add(node)\n",
    "        ordering.append(node)\n",
    "        \n",
    "    # Start recursive depth-first search\n",
    "    recursive_helper(operation)\n",
    "    \n",
    "    return(ordering)"
   ]
  },
  {
   "cell_type": "code",
   "execution_count": 8,
   "metadata": {},
   "outputs": [],
   "source": [
    "class Session():\n",
    "    def run(self, operation, feed_dict = {}):\n",
    "        nodes_sorted = topology_sort(operation)\n",
    "        \n",
    "        for node in nodes_sorted:\n",
    "            if type(node) == Placeholder:\n",
    "                node.output = feed_dict[node]\n",
    "                \n",
    "            elif type(node) == Variable or type(node) == Constant:\n",
    "                node.output = node.value\n",
    "                \n",
    "            else:\n",
    "                inputs = [node.output for node in node.input_nodes]\n",
    "                node.output = node.forward(*inputs)\n",
    "                \n",
    "        return operation.output"
   ]
  },
  {
   "cell_type": "code",
   "execution_count": 9,
   "metadata": {},
   "outputs": [
    {
     "name": "stdout",
     "output_type": "stream",
     "text": [
      "0.26666666666666666\n"
     ]
    }
   ],
   "source": [
    "Graph().as_default()\n",
    "a = Constant(15)\n",
    "b = Constant(5)\n",
    "prod = multiply(a, b)\n",
    "summation = add(a, b)\n",
    "res = divide(summation, prod)\n",
    "session = Session()\n",
    "out = session.run(res)\n",
    "print(out)"
   ]
  }
 ],
 "metadata": {
  "kernelspec": {
   "display_name": "Python 3",
   "language": "python",
   "name": "python3"
  },
  "language_info": {
   "codemirror_mode": {
    "name": "ipython",
    "version": 3
   },
   "file_extension": ".py",
   "mimetype": "text/x-python",
   "name": "python",
   "nbconvert_exporter": "python",
   "pygments_lexer": "ipython3",
   "version": "3.6.9"
  },
  "toc": {
   "base_numbering": 1,
   "nav_menu": {},
   "number_sections": true,
   "sideBar": true,
   "skip_h1_title": false,
   "title_cell": "Table of Contents",
   "title_sidebar": "Contents",
   "toc_cell": false,
   "toc_position": {},
   "toc_section_display": true,
   "toc_window_display": false
  }
 },
 "nbformat": 4,
 "nbformat_minor": 4
}
